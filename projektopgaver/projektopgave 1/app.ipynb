{
 "cells": [
  {
   "cell_type": "code",
   "execution_count": 12,
   "metadata": {},
   "outputs": [],
   "source": [
    "from gym_cas import *\n",
    "import math"
   ]
  },
  {
   "cell_type": "markdown",
   "metadata": {},
   "source": [
    "$\\text{}$"
   ]
  },
  {
   "cell_type": "markdown",
   "metadata": {},
   "source": [
    "# Projekt 1 - Overlevelsesbunkeren"
   ]
  },
  {
   "attachments": {
    "image.png": {
     "image/png": "[encoded data removed]"
    }
   },
   "cell_type": "markdown",
   "metadata": {},
   "source": [
    "![](attachment:image.png)\n",
    "\n",
    "Til at beregne den skrå side på bunkeren bruger vi cosinusrelationer.\n",
    "\n",
    "$a^2 = b^2 + c^2 - 2bc \\cdot cos(A)$ <br><br>\n",
    "\n",
    "\n",
    "$a^2 = 6,6^2 + 6^2 - 2 \\cdot 6,6 \\cdot 6 \\cdot cos(56\\text{°})$ <br><br>"
   ]
  },
  {
   "cell_type": "code",
   "execution_count": 30,
   "metadata": {},
   "outputs": [
    {
     "data": {
      "text/latex": [
       "$\\displaystyle 35.2719220451169$"
      ],
      "text/plain": [
       "35.2719220451169"
      ]
     },
     "execution_count": 30,
     "metadata": {},
     "output_type": "execute_result"
    }
   ],
   "source": [
    "6.6 ** 2 + 6 ** 2 - 2 * 6.6 * 6 * Cos(56)"
   ]
  },
  {
   "cell_type": "markdown",
   "metadata": {},
   "source": [
    "$a^2 = 35.2719220451169$ <br><br>\n",
    "$a^2 = \\sqrt{35.2719220451169}$ = 5.93901692581498\n",
    "\n",
    "\n"
   ]
  },
  {
   "cell_type": "code",
   "execution_count": 37,
   "metadata": {},
   "outputs": [
    {
     "data": {
      "text/latex": [
       "$\\displaystyle 5.93901692581498$"
      ],
      "text/plain": [
       "5.93901692581498"
      ]
     },
     "execution_count": 37,
     "metadata": {},
     "output_type": "execute_result"
    }
   ],
   "source": [
    "svar = 6.6 ** 2 + 6 ** 2 - 2 * 6.6 * 6 * Cos(56)\n",
    "sqrt(svar)"
   ]
  },
  {
   "cell_type": "markdown",
   "metadata": {},
   "source": [
    "Og vi kommer til sidst frem til resultatet, at den skrå side af bunkeren er 5.93901692581498 meter"
   ]
  },
  {
   "attachments": {
    "image.png": {
     "image/png": "[encoded data removed]"
    }
   },
   "cell_type": "markdown",
   "metadata": {},
   "source": [
    "![](attachment:image.png)\n",
    "\n",
    "For at finde vinklerne B og C bruger vi igen cosinusrelationer:\n",
    "\n",
    "$cos(B) = \\dfrac{a^2 + c^2 - b^2 }{2ac}$ <br><br>\n",
    "\n",
    "$cos(B) = \\dfrac{5,94^2 + 6^2 - 6,6^2}{2 \\cdot 5,94 \\cdot 6}$"
   ]
  },
  {
   "cell_type": "code",
   "execution_count": 50,
   "metadata": {},
   "outputs": [
    {
     "data": {
      "text/latex": [
       "$\\displaystyle 66.9473847902734$"
      ],
      "text/plain": [
       "66.9473847902734"
      ]
     },
     "execution_count": 50,
     "metadata": {},
     "output_type": "execute_result"
    }
   ],
   "source": [
    "cosB = ((5.94 ** 2) + (6 ** 2) - (6.6 ** 2)) / (2 * 5.9 * 6)\n",
    "aCos(cosB)"
   ]
  },
  {
   "cell_type": "markdown",
   "metadata": {},
   "source": [
    "Vinklen B er derfor = 66.9473847902734°\n",
    "\n",
    "Vi finder den sidste vinkel, altå vinklen C på baugrund af vores viden om vinkel summen i en trekant altid er 180°.\n",
    "\n",
    "$180 - 66.9473847902734 - 56 = C$\n"
   ]
  },
  {
   "cell_type": "code",
   "execution_count": 48,
   "metadata": {},
   "outputs": [
    {
     "data": {
      "text/plain": [
       "57.052615209726596"
      ]
     },
     "execution_count": 48,
     "metadata": {},
     "output_type": "execute_result"
    }
   ],
   "source": [
    "180 - 66.9473847902734 - 56"
   ]
  },
  {
   "cell_type": "markdown",
   "metadata": {},
   "source": [
    "Så vinkel C = 57.052615209726596°"
   ]
  },
  {
   "cell_type": "markdown",
   "metadata": {},
   "source": [
    "    "
   ]
  }
 ],
 "metadata": {
  "kernelspec": {
   "display_name": "Python 3",
   "language": "python",
   "name": "python3"
  },
  "language_info": {
   "codemirror_mode": {
    "name": "ipython",
    "version": 3
   },
   "file_extension": ".py",
   "mimetype": "text/x-python",
   "name": "python",
   "nbconvert_exporter": "python",
   "pygments_lexer": "ipython3",
   "version": "3.12.0"
  }
 },
 "nbformat": 4,
 "nbformat_minor": 2
}
