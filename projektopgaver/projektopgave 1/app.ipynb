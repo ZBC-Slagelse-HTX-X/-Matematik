{
 "cells": [
  {
   "cell_type": "code",
   "execution_count": 2,
   "metadata": {},
   "outputs": [],
   "source": [
    "from gym_cas import *"
   ]
  },
  {
   "cell_type": "markdown",
   "metadata": {},
   "source": [
    "# Projekt 1 - Overlevelsesbunkeren"
   ]
  },
  {
   "cell_type": "markdown",
   "metadata": {},
   "source": [
    "$\\text{}$"
   ]
  },
  {
   "cell_type": "code",
   "execution_count": 13,
   "metadata": {},
   "outputs": [
    {
     "name": "stdout",
     "output_type": "stream",
     "text": [
      "24.7429186814864\n",
      "36\n"
     ]
    },
    {
     "data": {
      "text/latex": [
       "$\\displaystyle 1.45496173929297$"
      ],
      "text/plain": [
       "1.45496173929297"
      ]
     },
     "execution_count": 13,
     "metadata": {},
     "output_type": "execute_result"
    }
   ],
   "source": [
    "a = Sin(56)*6\n",
    "a2 = a ** 2\n",
    "\n",
    "c = 6\n",
    "c2 = c ** 2\n",
    "\n",
    "print(a2)\n",
    "print(c2)\n",
    "\n",
    "c2 / a2"
   ]
  },
  {
   "cell_type": "markdown",
   "metadata": {},
   "source": [
    "Pyhtagoras læresætning: $a^2 + b^2 = c^2$ <br><br>\n",
    "$\\dfrac{(a^2 + b^2)}{a^2} = \\dfrac{c^2}{a^2}$ <br><br>\n",
    "$b^2 = \\dfrac{c^2}{a^2}$\n"
   ]
  },
  {
   "cell_type": "code",
   "execution_count": null,
   "metadata": {},
   "outputs": [],
   "source": []
  }
 ],
 "metadata": {
  "kernelspec": {
   "display_name": "Python 3",
   "language": "python",
   "name": "python3"
  },
  "language_info": {
   "codemirror_mode": {
    "name": "ipython",
    "version": 3
   },
   "file_extension": ".py",
   "mimetype": "text/x-python",
   "name": "python",
   "nbconvert_exporter": "python",
   "pygments_lexer": "ipython3",
   "version": "3.12.0"
  }
 },
 "nbformat": 4,
 "nbformat_minor": 2
}
